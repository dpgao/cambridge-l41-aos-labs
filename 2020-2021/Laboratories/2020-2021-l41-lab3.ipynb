{
 "cells": [
  {
   "cell_type": "markdown",
   "id": "sharing-salem",
   "metadata": {},
   "source": [
    "# Advanced Operating Systems: Lab 3 - TCP/IP\n",
    "\n",
    "This notebook provides addition sample code to use when employing `ipc-benchmark` benchmark in Lab 3 for a range for TCP/IP analysis tasks."
   ]
  },
  {
   "cell_type": "markdown",
   "id": "comfortable-insider",
   "metadata": {},
   "source": [
    "## Reference material\n",
    "Here are some useful sources of information as you dig into this lab:\n",
    "\n",
    "- [Transmission Control Protocol (RFC793)](https://tools.ietf.org/html/rfc793)\n",
    "- Van Jacobson and Michael Karels, [Congestion Avoidance and Control](https://ee.lbl.gov/papers/congavoid.pdf)\n",
    "- [Graphviz documentation](http://www.graphviz.org/documentation/)\n",
    "- [Python-Graphviz manual](https://graphviz.readthedocs.io/en/stable/manual.html)"
   ]
  },
  {
   "cell_type": "markdown",
   "id": "municipal-double",
   "metadata": {},
   "source": [
    "# Graphviz"
   ]
  },
  {
   "cell_type": "markdown",
   "id": "nearby-barcelona",
   "metadata": {},
   "source": [
    "In this lab, you are asked to produce plots of the TCP state machine based on practical DTrace instrumentation of the kernel. The tool *Graphviz* is invaluable for producing state-machine plots, and we recommend it for this lab. Do explore the set of features supported by the package, including its clustering, ranking, and labeling facilities to help organise and explain the graph."
   ]
  },
  {
   "cell_type": "code",
   "execution_count": null,
   "id": "delayed-pregnancy",
   "metadata": {},
   "outputs": [],
   "source": [
    "from graphviz import Digraph\n",
    "dot = Digraph()\n",
    "dot.node('CLOSED')\n",
    "dot.node('OPEN')\n",
    "dot.edge('CLOSED', 'OPEN', label=\"SYN\")\n",
    "dot.edge('OPEN', 'CLOSED', label=\"FIN\")\n",
    "dot"
   ]
  }
 ],
 "metadata": {
  "kernelspec": {
   "display_name": "Python 3",
   "language": "python",
   "name": "python3"
  },
  "language_info": {
   "codemirror_mode": {
    "name": "ipython",
    "version": 3
   },
   "file_extension": ".py",
   "mimetype": "text/x-python",
   "name": "python",
   "nbconvert_exporter": "python",
   "pygments_lexer": "ipython3",
   "version": "3.7.9"
  }
 },
 "nbformat": 4,
 "nbformat_minor": 5
}
