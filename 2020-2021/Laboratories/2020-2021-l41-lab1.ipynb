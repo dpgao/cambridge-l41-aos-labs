{
 "cells": [
  {
   "cell_type": "markdown",
   "metadata": {},
   "source": [
    "# L41: Lab 1 - Getting started with kernel tracing - I/O"
   ]
  },
  {
   "cell_type": "markdown",
   "metadata": {},
   "source": [
    "The goals of this lab are to:\n",
    "\n",
    "- Introduce you to our experimental environment and DTrace.\n",
    "- Have you explore user-kernel interactions via system calls and traps.\n",
    "- Gain experience tracing I/O behaviour in UNIX.\n",
    "- Develop an intuition about DTrace's probe effect.\n",
    "\n",
    "You will do this using DTrace to analyse the behaviour of a potted, kernel-intensive block-I/O benchmark."
   ]
  },
  {
   "cell_type": "markdown",
   "metadata": {},
   "source": [
    "## Build the benchmark"
   ]
  },
  {
   "cell_type": "code",
   "execution_count": 5,
   "metadata": {},
   "outputs": [],
   "source": [
    "!make -C io"
   ]
  },
  {
   "cell_type": "markdown",
   "metadata": {},
   "source": [
    "## Some basic initialization for Python"
   ]
  },
  {
   "cell_type": "code",
   "execution_count": 3,
   "metadata": {},
   "outputs": [],
   "source": [
    "import json\n",
    "import matplotlib.pyplot as plt\n",
    "import numpy as np"
   ]
  },
  {
   "cell_type": "markdown",
   "metadata": {},
   "source": [
    "## Some further useful constants used throughout"
   ]
  },
  {
   "cell_type": "code",
   "execution_count": 4,
   "metadata": {},
   "outputs": [],
   "source": [
    "iterations=4      # Set low for experimentation; consider using 11 \"in production\""
   ]
  },
  {
   "cell_type": "markdown",
   "metadata": {},
   "source": [
    "# `io` benchmark usage information"
   ]
  },
  {
   "cell_type": "code",
   "execution_count": 5,
   "metadata": {},
   "outputs": [
    {
     "name": "stdout",
     "output_type": "stream",
     "text": [
      "usage: io-dynamic -c|-r|-w [-Bdjqsv] [-b buffersize]\n",
      "    [-n iterations] [-t totalsize] path\n",
      "\n",
      "Modes (pick one):\n",
      "    -c              'create mode': create benchmark data file\n",
      "    -r              'read mode': read() benchmark\n",
      "    -w              'write mode': write() benchmark\n",
      "\n",
      "Optional flags:\n",
      "    -B              Run in bare mode: no preparatory activities\n",
      "    -d              Set O_DIRECT flag to bypass buffer cache\n",
      "    -g              Enable getrusage(2) collection\n",
      "    -j              Output as JSON\n",
      "    -q              Just run the benchmark, don't print stuff out\n",
      "    -s              Call fsync() on the file descriptor when complete\n",
      "    -v              Provide a verbose benchmark description\n",
      "    -b buffersize   Specify the buffer size (default: 16384)\n",
      "    -n iterations   Specify the number of times to run (default: 1)\n",
      "    -t totalsize    Specify the total I/O size (default: 16777216)\n"
     ]
    }
   ],
   "source": [
    "!io/io-dynamic"
   ]
  },
  {
   "cell_type": "markdown",
   "metadata": {},
   "source": [
    "# Collect data by running the I/O benchmark across a range of block sizes, capturing JSON output for each blocksize"
   ]
  },
  {
   "cell_type": "code",
   "execution_count": 6,
   "metadata": {},
   "outputs": [],
   "source": [
    "benchmark_strings = {}\n",
    "for blocksize in [2**v for v in range(25)]:\n",
    "    output = !io/io-dynamic -b $blocksize -j -n $iterations -r -v iofile\n",
    "    benchmark_strings[blocksize] = ' '.join(output)"
   ]
  },
  {
   "cell_type": "markdown",
   "metadata": {},
   "source": [
    "# Now process to generate easy to access/manipulate arrays of data"
   ]
  },
  {
   "cell_type": "code",
   "execution_count": 7,
   "metadata": {},
   "outputs": [],
   "source": [
    "bw_samples = {}       # Arrays of bandwidth samples indexed by block size\n",
    "medians = {}          # Arrays of medians indexed by block size\n",
    "stds = {}             # Arrays of standard deviations indexed by block size\n",
    "\n",
    "for blocksize in [2**v for v in range(25)]:\n",
    "    j = json.loads(benchmark_strings[blocksize])\n",
    "    samples = list(j[\"benchmark_samples\"])\n",
    "    bw_samples[blocksize] = list([x[\"bandwidth\"] for x in samples])\n",
    "    medians[blocksize] = np.median(bw_samples[blocksize])\n",
    "    stds[blocksize] = np.std(bw_samples[blocksize])"
   ]
  },
  {
   "cell_type": "markdown",
   "metadata": {},
   "source": [
    "# Some plotting of this data"
   ]
  },
  {
   "cell_type": "code",
   "execution_count": 8,
   "metadata": {},
   "outputs": [
    {
     "data": {
      "text/plain": [
       "<ErrorbarContainer object of 3 artists>"
      ]
     },
     "execution_count": 8,
     "metadata": {},
     "output_type": "execute_result"
    },
    {
     "data": {
      "image/png": "[encoded data removed]",
      "text/plain": [
       "<Figure size 432x288 with 1 Axes>"
      ]
     },
     "metadata": {
      "needs_background": "light"
     },
     "output_type": "display_data"
    }
   ],
   "source": [
    "fig1, ax1 = plt.subplots()\n",
    "ax1.set_title(\"buffer size vs. bandwidth\")\n",
    "\n",
    "x_coords = []\n",
    "y_coords = []\n",
    "errs = []\n",
    "\n",
    "for x in [2**v for v in range(25)]:\n",
    "    x_coords.append(x)\n",
    "    y_coords.append(medians[x])\n",
    "    errs.append(stds[x])\n",
    "\n",
    "ax1.set_xscale(\"log\")\n",
    "ax1.errorbar(x_coords, y_coords, errs)"
   ]
  }
 ],
 "metadata": {
  "kernelspec": {
   "display_name": "Python 3",
   "language": "python",
   "name": "python3"
  },
  "language_info": {
   "codemirror_mode": {
    "name": "ipython",
    "version": 3
   },
   "file_extension": ".py",
   "mimetype": "text/x-python",
   "name": "python",
   "nbconvert_exporter": "python",
   "pygments_lexer": "ipython3",
   "version": "3.7.9"
  }
 },
 "nbformat": 4,
 "nbformat_minor": 4
}
