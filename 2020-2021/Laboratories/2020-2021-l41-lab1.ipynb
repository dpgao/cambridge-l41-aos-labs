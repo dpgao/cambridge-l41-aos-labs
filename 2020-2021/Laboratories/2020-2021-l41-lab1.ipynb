{
 "cells": [
  {
   "cell_type": "markdown",
   "metadata": {},
   "source": [
    "# L41: Lab 1 - Getting started with kernel tracing - I/O"
   ]
  },
  {
   "cell_type": "markdown",
   "metadata": {},
   "source": [
    "This Jypterlab Notebook is intended to get you started with:\n",
    "\n",
    "1. Building and running the benchmark\n",
    "2. Extracting and plotting data collected by the benchmark itself (e.g., execution time)\n",
    "3. Extracting and plotting data collected externally by DTrace\n",
    "\n",
    "This file is not intended to be a template for your solutions; we recommend that you create a new Notebook, placing your work there, rather than using this Notebook as your starting point.\n",
    "\n",
    "Make sure to run cells in the right order (pressing Ctrl-Enter when in the cell) so that dependencies are executed in the right order. For example, Python imports must occur before running the remainder of the code, and data must be collected before it can be plotted."
   ]
  },
  {
   "cell_type": "markdown",
   "metadata": {},
   "source": [
    "# 1. Building and running the benchmark"
   ]
  },
  {
   "cell_type": "markdown",
   "metadata": {},
   "source": [
    "First, we need to build the benchmark using `make` (no text output is expected from a successful build):"
   ]
  },
  {
   "cell_type": "code",
   "execution_count": 32,
   "metadata": {},
   "outputs": [],
   "source": [
    "!make -C io"
   ]
  },
  {
   "cell_type": "markdown",
   "metadata": {},
   "source": [
    "Next, we can run the benchmark using Jupyter's `!` syntax, illustrating its command-line arguments:"
   ]
  },
  {
   "cell_type": "code",
   "execution_count": 33,
   "metadata": {},
   "outputs": [
    {
     "name": "stdout",
     "output_type": "stream",
     "text": [
      "usage: io-dynamic -c|-r|-w [-Bdjqsv] [-b buffersize]\n",
      "    [-n iterations] [-t totalsize] path\n",
      "\n",
      "Modes (pick one):\n",
      "    -c              'create mode': create benchmark data file\n",
      "    -r              'read mode': read() benchmark\n",
      "    -w              'write mode': write() benchmark\n",
      "\n",
      "Optional flags:\n",
      "    -B              Run in bare mode: no preparatory activities\n",
      "    -d              Set O_DIRECT flag to bypass buffer cache\n",
      "    -g              Enable getrusage(2) collection\n",
      "    -j              Output as JSON\n",
      "    -q              Just run the benchmark, don't print stuff out\n",
      "    -s              Call fsync() on the file descriptor when complete\n",
      "    -v              Provide a verbose benchmark description\n",
      "    -b buffersize   Specify the buffer size (default: 16384)\n",
      "    -n iterations   Specify the number of times to run (default: 1)\n",
      "    -t totalsize    Specify the total I/O size (default: 16777216)\n"
     ]
    }
   ],
   "source": [
    "!io/io-dynamic"
   ]
  },
  {
   "cell_type": "markdown",
   "metadata": {},
   "source": [
    "Run a quick test of the benchmark using small parameters so that we can see the JSON format of the output, which you will need to know in order to extract various results of interest:"
   ]
  },
  {
   "cell_type": "code",
   "execution_count": 59,
   "metadata": {},
   "outputs": [
    {
     "name": "stdout",
     "output_type": "stream",
     "text": [
      "{\n",
      "  \"host_configuration\": {\n",
      "    \"hw.machine\": \"arm64\",\n",
      "    \"hw.model\": \"ARM Cortex-A72 r0p3\",\n",
      "    \"hw.ncpu\": 4,\n",
      "    \"hw.physmem\": 8421621760,\n",
      "    \"hw.cpufreq.arm_freq\": 600000000\n",
      "  },\n",
      "  \"benchmark_configuration\": {\n",
      "    \"buffersize\": 262144,\n",
      "    \"totalsize\": 16777216,\n",
      "    \"blockcount\": 0,\n",
      "    \"operation\": \"read\",\n",
      "    \"path\": \"iofile\",\n",
      "    \"iterations\": 2\n",
      "  },\n",
      "  \"benchmark_samples\": [\n",
      "    {\n",
      "      \"bandwidth\": 1212394.00,\n",
      "      \"time\": \"0.013513759\",\n",
      "      \"utime\": \"0.000000\",\n",
      "      \"stime\": \"0.013528\",\n",
      "      \"inblock\": 0,\n",
      "      \"oublock\": 0\n",
      "    },\n",
      "    {\n",
      "      \"bandwidth\": 1203120.04,\n",
      "      \"time\": \"0.013617926\",\n",
      "      \"utime\": \"0.000000\",\n",
      "      \"stime\": \"0.013630\",\n",
      "      \"inblock\": 0,\n",
      "      \"oublock\": 0\n",
      "    }\n",
      "  ]\n",
      "}\n"
     ]
    }
   ],
   "source": [
    "!io/io-dynamic -b 262144 -g -j -v -n 2 -r iofile"
   ]
  },
  {
   "cell_type": "markdown",
   "metadata": {},
   "source": [
    "The `\"host_configuration\"` and `\"benchmark_configuration\"` blocks provide information about the configuration of the host and the benchmark.\n",
    "\n",
    "The `\"benchmark_samples`\" block consists of an array of individual measurements with various results for each measurement. In general, dropping the first sample is a good idea, as it may contain artifacts from \"first runs\" -- such as the costs of dynamic linking. The captured metrics using this benchmark command line are:\n",
    "\n",
    "- `bandwidth`: The average bandwidth over the run of the benchmark's work loop.\n",
    "- `time`: Wall-clock time running the work loop.\n",
    "- `utime` and `stime`: Sampled user and system (kernel) time. This may not add up to wall-clock time if software has to sleep awaiting I/O. Further, while `time` is measured using precise clock reads, `utime` and `stime` are sampled by the timer interrupt. You therefore cannot expect that (`time` == `utime` + `stime`).\n",
    "- `inblock` and `outblock`: The number of actual block I/O operations performed by the process measured using `getrusage(2)`."
   ]
  },
  {
   "cell_type": "markdown",
   "metadata": {},
   "source": [
    "# 2. Extracting and plotting data generated by the benchmark"
   ]
  },
  {
   "cell_type": "markdown",
   "metadata": {},
   "source": [
    "Next, we import some Python module dependencies, and set configuration parameters:"
   ]
  },
  {
   "cell_type": "code",
   "execution_count": 2,
   "metadata": {},
   "outputs": [],
   "source": [
    "import json\n",
    "import matplotlib.pyplot as plt\n",
    "import numpy as np\n",
    "\n",
    "# Set low for experimentation; consider using 11 \"in production\", but this will run for a long time!\n",
    "iterations=4"
   ]
  },
  {
   "cell_type": "markdown",
   "metadata": {},
   "source": [
    "Next, run the benchmark and process the results. We run the benchmark binary once for each buffer size, `iterations` times, generating JSON. We import the JSON into Python, and generate some summary statistics (medians and quartiles) for each buffer size. In this example, we consider only bandwidth, but you can also easily plot properties such as "
   ]
  },
  {
   "cell_type": "code",
   "execution_count": 5,
   "metadata": {},
   "outputs": [],
   "source": [
    "benchmark_strings = {}\n",
    "for blocksize in [2**v for v in range(25)]:\n",
    "    output = !io/io-dynamic -b $blocksize -j -n $iterations -r -v iofile\n",
    "    benchmark_strings[blocksize] = ' '.join(output)\n",
    "    \n",
    "bw_samples = {}       # Arrays of bandwidth samples indexed by block size\n",
    "medians = {}          # Arrays of medians indexed by block size\n",
    "stds = {}             # Arrays of standard deviations indexed by block size\n",
    "q3s = {}              # Arrays of third quartiles\n",
    "q1s = {}              # Arrays of first quartiles\n",
    "\n",
    "for blocksize in [2**v for v in range(25)]:\n",
    "    j = json.loads(benchmark_strings[blocksize])\n",
    "    samples = list(j[\"benchmark_samples\"])\n",
    "    bw_samples[blocksize] = list([x[\"bandwidth\"] for x in samples])\n",
    "    medians[blocksize] = np.median(bw_samples[blocksize])\n",
    "    q1s[blocksize] = medians[blocksize] - np.quantile(bw_samples[blocksize], 0.25)\n",
    "    q3s[blocksize] = np.quantile(bw_samples[blocksize], 0.75) - medians[blocksize] "
   ]
  },
  {
   "cell_type": "markdown",
   "metadata": {},
   "source": [
    "Finally, we generate a plot using `matplotlib`, consisting of medians and error bars based on IQR:"
   ]
  },
  {
   "cell_type": "code",
   "execution_count": 45,
   "metadata": {},
   "outputs": [
    {
     "data": {
      "text/plain": [
       "<ErrorbarContainer object of 3 artists>"
      ]
     },
     "execution_count": 45,
     "metadata": {},
     "output_type": "execute_result"
    },
    {
     "data": {
      "image/png": "[encoded data removed]",
      "text/plain": [
       "<Figure size 432x288 with 1 Axes>"
      ]
     },
     "metadata": {
      "needs_background": "light"
     },
     "output_type": "display_data"
    }
   ],
   "source": [
    "fig1, ax = plt.subplots()\n",
    "ax.set_title(\"buffer size vs. bandwidth\")\n",
    "\n",
    "x_coords = []\n",
    "y_coords = []\n",
    "low_errs = []\n",
    "high_errs = []\n",
    "\n",
    "for x in [2**v for v in range(25)]:\n",
    "    x_coords.append(x)\n",
    "    y_coords.append(medians[x])\n",
    "    low_errs.append(q1s[x])\n",
    "    high_errs.append(q3s[x])\n",
    "\n",
    "ax.set_xscale(\"log\")\n",
    "ax.errorbar(x_coords, y_coords, [low_errs, high_errs])"
   ]
  },
  {
   "cell_type": "markdown",
   "metadata": {},
   "source": [
    "In analysing this plot, it is worth considering key inflection points: Points on the plot where there are behavioural changes, and what they reflect. We can directly annotate those points on the plot using `avxline`.\n",
    "\n",
    "In the next plot, we've manually placed several vertical lines at points where the data you collect is likely to experience inflection points. If they don't line up, check that you are collecting data as expected.\n",
    "\n",
    "Be sure to take note of the linear Y axis and exponential X axis, and consider its implications for data analysis."
   ]
  },
  {
   "cell_type": "code",
   "execution_count": 55,
   "metadata": {},
   "outputs": [
    {
     "data": {
      "text/plain": [
       "<ErrorbarContainer object of 3 artists>"
      ]
     },
     "execution_count": 55,
     "metadata": {},
     "output_type": "execute_result"
    },
    {
     "data": {
      "image/png": "[encoded data removed]",
      "text/plain": [
       "<Figure size 432x288 with 1 Axes>"
      ]
     },
     "metadata": {
      "needs_background": "light"
     },
     "output_type": "display_data"
    }
   ],
   "source": [
    "### This content the same as the above cell\n",
    "fig1, ax = plt.subplots()\n",
    "ax.set_title(\"buffer size vs. bandwidth\")\n",
    "\n",
    "x_coords = []\n",
    "y_coords = []\n",
    "low_errs = []\n",
    "high_errs = []\n",
    "\n",
    "for x in [2**v for v in range(25)]:\n",
    "    x_coords.append(x)\n",
    "    y_coords.append(medians[x])\n",
    "    low_errs.append(q1s[x])\n",
    "    high_errs.append(q3s[x])\n",
    "\n",
    "ax.set_xscale(\"log\")\n",
    "ax.errorbar(x_coords, y_coords, [low_errs, high_errs])\n",
    "\n",
    "### This is new content relative to the prior cell\n",
    "ax.axvline(x=4*1024, color=\"red\", label=\"4KB\", linestyle=\":\")\n",
    "ax.axvline(x=64*1024, color=\"blue\", label=\"64KB\", linestyle=\":\")\n",
    "ax.axvline(x=128*1024, color=\"green\", label=\"128KB\", linestyle=\":\")\n",
    "ax.legend()\n",
    "ax.errorbar(x_coords, y_coords, [low_errs, high_errs])"
   ]
  },
  {
   "cell_type": "markdown",
   "metadata": {},
   "source": [
    "# 3. Extracting and plotting data generated using DTrace"
   ]
  },
  {
   "cell_type": "code",
   "execution_count": null,
   "metadata": {},
   "outputs": [],
   "source": []
  }
 ],
 "metadata": {
  "kernelspec": {
   "display_name": "Python 3",
   "language": "python",
   "name": "python3"
  },
  "language_info": {
   "codemirror_mode": {
    "name": "ipython",
    "version": 3
   },
   "file_extension": ".py",
   "mimetype": "text/x-python",
   "name": "python",
   "nbconvert_exporter": "python",
   "pygments_lexer": "ipython3",
   "version": "3.7.9"
  }
 },
 "nbformat": 4,
 "nbformat_minor": 4
}
